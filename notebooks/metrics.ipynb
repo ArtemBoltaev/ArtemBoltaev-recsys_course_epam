{
 "cells": [
  {
   "cell_type": "code",
   "execution_count": 1,
   "metadata": {},
   "outputs": [],
   "source": [
    "import pandas as pd\n",
    "import numpy as np\n"
   ]
  },
  {
   "cell_type": "code",
   "execution_count": 2,
   "metadata": {},
   "outputs": [],
   "source": [
    "path_to_firstdf = '/Users/Artem_Boltaev/Documents/EPAM Projects/6. RecSys_course/source_code/recsys_course_epam/data/raw/recsys_task0_dataset.parquet'\n",
    "\n",
    "df = pd.read_parquet(path_to_firstdf, engine='pyarrow')"
   ]
  },
  {
   "cell_type": "code",
   "execution_count": 3,
   "metadata": {},
   "outputs": [
    {
     "name": "stdout",
     "output_type": "stream",
     "text": [
      "<class 'pandas.core.frame.DataFrame'>\n",
      "Int64Index: 1188 entries, 1 to 6040\n",
      "Data columns (total 2 columns):\n",
      " #   Column        Non-Null Count  Dtype \n",
      "---  ------        --------------  ----- \n",
      " 0   ground_truth  1188 non-null   object\n",
      " 1   prediction    1188 non-null   object\n",
      "dtypes: object(2)\n",
      "memory usage: 27.8+ KB\n"
     ]
    }
   ],
   "source": [
    "df.info()"
   ]
  },
  {
   "cell_type": "code",
   "execution_count": 4,
   "metadata": {},
   "outputs": [
    {
     "data": {
      "text/html": [
       "<div>\n",
       "<style scoped>\n",
       "    .dataframe tbody tr th:only-of-type {\n",
       "        vertical-align: middle;\n",
       "    }\n",
       "\n",
       "    .dataframe tbody tr th {\n",
       "        vertical-align: top;\n",
       "    }\n",
       "\n",
       "    .dataframe thead th {\n",
       "        text-align: right;\n",
       "    }\n",
       "</style>\n",
       "<table border=\"1\" class=\"dataframe\">\n",
       "  <thead>\n",
       "    <tr style=\"text-align: right;\">\n",
       "      <th></th>\n",
       "      <th>ground_truth</th>\n",
       "      <th>prediction</th>\n",
       "    </tr>\n",
       "    <tr>\n",
       "      <th>user_id</th>\n",
       "      <th></th>\n",
       "      <th></th>\n",
       "    </tr>\n",
       "  </thead>\n",
       "  <tbody>\n",
       "    <tr>\n",
       "      <th>1</th>\n",
       "      <td>[1193, 3408, 2355, 1287, 2804, 594, 919, 595, ...</td>\n",
       "      <td>[2858, 260, 1196, 1198, 593, 2028, 318, 527, 2...</td>\n",
       "    </tr>\n",
       "    <tr>\n",
       "      <th>2</th>\n",
       "      <td>[1357, 3068, 1537, 2194, 648, 2268, 3468, 1210...</td>\n",
       "      <td>[2858, 260, 1196, 1198, 593, 2028, 318, 527, 2...</td>\n",
       "    </tr>\n",
       "    <tr>\n",
       "      <th>3</th>\n",
       "      <td>[3421, 1394, 104, 2735, 1210, 1079, 1615, 1291...</td>\n",
       "      <td>[2858, 260, 1196, 1198, 593, 2028, 318, 527, 2...</td>\n",
       "    </tr>\n",
       "    <tr>\n",
       "      <th>4</th>\n",
       "      <td>[3468, 2951, 1214, 1036, 260, 2028, 480, 1198,...</td>\n",
       "      <td>[2858, 260, 1196, 1198, 593, 2028, 318, 527, 2...</td>\n",
       "    </tr>\n",
       "    <tr>\n",
       "      <th>5</th>\n",
       "      <td>[2987, 2333, 1175, 2337, 1535, 1392, 866, 2770...</td>\n",
       "      <td>[2858, 260, 1196, 1198, 593, 2028, 318, 527, 2...</td>\n",
       "    </tr>\n",
       "  </tbody>\n",
       "</table>\n",
       "</div>"
      ],
      "text/plain": [
       "                                              ground_truth  \\\n",
       "user_id                                                      \n",
       "1        [1193, 3408, 2355, 1287, 2804, 594, 919, 595, ...   \n",
       "2        [1357, 3068, 1537, 2194, 648, 2268, 3468, 1210...   \n",
       "3        [3421, 1394, 104, 2735, 1210, 1079, 1615, 1291...   \n",
       "4        [3468, 2951, 1214, 1036, 260, 2028, 480, 1198,...   \n",
       "5        [2987, 2333, 1175, 2337, 1535, 1392, 866, 2770...   \n",
       "\n",
       "                                                prediction  \n",
       "user_id                                                     \n",
       "1        [2858, 260, 1196, 1198, 593, 2028, 318, 527, 2...  \n",
       "2        [2858, 260, 1196, 1198, 593, 2028, 318, 527, 2...  \n",
       "3        [2858, 260, 1196, 1198, 593, 2028, 318, 527, 2...  \n",
       "4        [2858, 260, 1196, 1198, 593, 2028, 318, 527, 2...  \n",
       "5        [2858, 260, 1196, 1198, 593, 2028, 318, 527, 2...  "
      ]
     },
     "execution_count": 4,
     "metadata": {},
     "output_type": "execute_result"
    }
   ],
   "source": [
    "df.head()"
   ]
  },
  {
   "cell_type": "code",
   "execution_count": 5,
   "metadata": {},
   "outputs": [],
   "source": [
    "y_true = df['ground_truth'].apply(pd.Series).to_numpy()\n",
    "y_pred = df['prediction'].apply(pd.Series).to_numpy()"
   ]
  },
  {
   "cell_type": "markdown",
   "metadata": {},
   "source": [
    "# 1.HitRate@k"
   ]
  },
  {
   "cell_type": "code",
   "execution_count": 6,
   "metadata": {},
   "outputs": [],
   "source": [
    "\n",
    "def hit_rate_at_k_score(y_true, y_pred, k: int):\n",
    "    \"\"\"\n",
    "    Calculate Hit Rate at k.\n",
    "\n",
    "    Parameters\n",
    "    ----------\n",
    "    y_true : array-like of shape (n_samples, n_items)\n",
    "        Ground truth (correct) target values.\n",
    "\n",
    "    y_pred : array-like of shape (n_samples, n_items)\n",
    "        Estimated target values.\n",
    "\n",
    "    k : int\n",
    "        Number of recommendations to take into account.\n",
    "\n",
    "    Returns\n",
    "    -------\n",
    "    score : float\n",
    "        A non-negative floating point value (the best value is 1.0).\n",
    "    \"\"\"\n",
    "    \n",
    "    hits = [np.in1d(pred[:k], fact).any() for fact, pred in zip(y_true, y_pred)]\n",
    "    return np.mean(hits)"
   ]
  },
  {
   "cell_type": "markdown",
   "metadata": {},
   "source": [
    "Expected scores:\n",
    "\n",
    "HitRate@3: 0.418\n",
    "\n",
    "HitRate@5: 0.492"
   ]
  },
  {
   "cell_type": "code",
   "execution_count": 7,
   "metadata": {},
   "outputs": [
    {
     "data": {
      "text/plain": [
       "0.4175084175084175"
      ]
     },
     "execution_count": 7,
     "metadata": {},
     "output_type": "execute_result"
    }
   ],
   "source": [
    "hit_rate_at_k_score(y_true, y_pred, 3)"
   ]
  },
  {
   "cell_type": "code",
   "execution_count": 8,
   "metadata": {},
   "outputs": [
    {
     "data": {
      "text/plain": [
       "0.49158249158249157"
      ]
     },
     "execution_count": 8,
     "metadata": {},
     "output_type": "execute_result"
    }
   ],
   "source": [
    "hit_rate_at_k_score(y_true, y_pred, 5)"
   ]
  },
  {
   "cell_type": "markdown",
   "metadata": {},
   "source": [
    "# 2.MAP@k"
   ]
  },
  {
   "cell_type": "code",
   "execution_count": 9,
   "metadata": {},
   "outputs": [],
   "source": [
    "def mean_average_precision_at_k_score(y_true, y_pred, k):\n",
    "    \"\"\"\n",
    "    Calculate mean average precision at k (MAP@k).\n",
    "\n",
    "    Parameters\n",
    "    ----------\n",
    "    y_true : array-like of shape (n_samples, n_items)\n",
    "        Ground truth (correct) target values.\n",
    "\n",
    "    y_pred : array-like of shape (n_samples, n_items)\n",
    "        Estimated target values.\n",
    "\n",
    "    k : int\n",
    "        Maximum number of recommendations to take into account.\n",
    "\n",
    "    Returns\n",
    "    -------\n",
    "    score : float\n",
    "        A non-negative floating point value (the best value is 1.0).\n",
    "    \"\"\"\n",
    "\n",
    "    def _average_precision_at_k_score(fact, pred):\n",
    "        hits = np.in1d(pred[:k], fact)\n",
    "        precision_at_k_list = [hits[:i].sum() / i for i in range(1, len(hits) + 1) if hits[i - 1]]\n",
    "        if precision_at_k_list:\n",
    "            return np.mean(precision_at_k_list)\n",
    "        else:\n",
    "            return 0.0\n",
    "    \n",
    "    point_scores_list = [_average_precision_at_k_score(fact, pred) for fact, pred in zip(y_true, y_pred)]\n",
    "    return np.average(point_scores_list)"
   ]
  },
  {
   "cell_type": "markdown",
   "metadata": {},
   "source": [
    "EXPECTED VALUES\n",
    "\n",
    "MAP@3: 0.325\n",
    "\n",
    "MAP@5: 0.333"
   ]
  },
  {
   "cell_type": "code",
   "execution_count": 10,
   "metadata": {},
   "outputs": [
    {
     "data": {
      "text/plain": [
       "0.3247053872053872"
      ]
     },
     "execution_count": 10,
     "metadata": {},
     "output_type": "execute_result"
    }
   ],
   "source": [
    "mean_average_precision_at_k_score(y_true, y_pred, 3)"
   ]
  },
  {
   "cell_type": "code",
   "execution_count": 11,
   "metadata": {},
   "outputs": [
    {
     "data": {
      "text/plain": [
       "0.3326155069210625"
      ]
     },
     "execution_count": 11,
     "metadata": {},
     "output_type": "execute_result"
    }
   ],
   "source": [
    "mean_average_precision_at_k_score(y_true, y_pred, 5)"
   ]
  },
  {
   "cell_type": "markdown",
   "metadata": {},
   "source": [
    "# 3.NDCG@k"
   ]
  },
  {
   "cell_type": "code",
   "execution_count": 58,
   "metadata": {},
   "outputs": [],
   "source": [
    "#NDCG@k\n",
    "\n",
    "def dcg_score_at_k(y_true, y_pred, k, gains=\"linear\"):\n",
    "    \"\"\"Discounted cumulative gain (DCG) at rank k\n",
    "\n",
    "    Warning - Custom function\n",
    "    Parameters\n",
    "    ----------\n",
    "    y_true : array-like, shape = [n_samples]\n",
    "        Ground truth (true relevance labels).\n",
    "    y_pred : array-like, shape = [n_samples]\n",
    "        Predicted scores.\n",
    "    k : int\n",
    "        Maximum number of recommendations to take into account.\n",
    "    gains : str\n",
    "        Whether gains should be \"exponential\" (default) or \"linear\".\n",
    "    Returns\n",
    "    -------\n",
    "    DCG @k : float\n",
    "    \"\"\"\n",
    "    y_true = y_true[~np.isnan(y_true)]\n",
    "    y_pred = y_pred[~np.isnan(y_pred)]\n",
    "\n",
    "    y_true = y_pred[:k]\n",
    "\n",
    "    if gains == \"exponential\":\n",
    "        gains = 2 ** y_true - 1\n",
    "    elif gains == \"linear\":\n",
    "        gains = y_true\n",
    "    else:\n",
    "        raise ValueError(\"Invalid gains option.\")\n",
    "\n",
    "    # highest rank is 1 so +2 instead of +1\n",
    "    discounts = np.log2(np.arange(len(y_true)) + 2)\n",
    "    return np.sum(gains / discounts)\n",
    "\n",
    "\n",
    "def ndcg_score_at_k(y_true, y_pred, k, gains=\"linear\"):\n",
    "    \"\"\"Normalized discounted cumulative gain (NDCG) at rank k\n",
    "    Parameters\n",
    "    ----------\n",
    "    y_true : array-like of shape (n_samples, n_items)\n",
    "        Ground truth (correct) target values.\n",
    "\n",
    "    y_pred : array-like of shape (n_samples, n_items)\n",
    "        Estimated target values.\n",
    "        \n",
    "    k : int\n",
    "        Maximum number of recommendations to take into account.\n",
    "    gains : str\n",
    "        Whether gains should be \"exponential\" (default) or \"linear\".\n",
    "    Returns\n",
    "    -------\n",
    "    NDCG @k : float\n",
    "    \"\"\"\n",
    "\n",
    "    best_scores_list = []\n",
    "    for i in range(len(y_true)-1):\n",
    "        d = dcg_score_at_k(y_true[i], y_true[i], k, gains)\n",
    "        best_scores_list.append(d)\n",
    "\n",
    "    actual_scores_list = []\n",
    "    for i in range(len(y_true)-1):\n",
    "        d = dcg_score_at_k(y_true[i], y_pred[i], k, gains)\n",
    "        actual_scores_list.append(d)\n",
    "\n",
    "    res = [actual / best for actual, best in zip(actual_scores_list, best_scores_list)]\n",
    "\n",
    "    return sum(res)/len(res)\n"
   ]
  },
  {
   "cell_type": "markdown",
   "metadata": {},
   "source": [
    "EXPECTED Values\n",
    "\n",
    "NDCG@3: 0.238\n",
    "\n",
    "NDCG@5: 0.223"
   ]
  },
  {
   "cell_type": "code",
   "execution_count": 59,
   "metadata": {},
   "outputs": [
    {
     "data": {
      "text/plain": [
       "0.8192328866035623"
      ]
     },
     "execution_count": 59,
     "metadata": {},
     "output_type": "execute_result"
    }
   ],
   "source": [
    "ndcg_score_at_k(y_true, y_pred, 3, gains=\"linear\")\n"
   ]
  },
  {
   "cell_type": "code",
   "execution_count": 60,
   "metadata": {},
   "outputs": [
    {
     "data": {
      "text/plain": [
       "0.7930310056305412"
      ]
     },
     "execution_count": 60,
     "metadata": {},
     "output_type": "execute_result"
    }
   ],
   "source": [
    "ndcg_score_at_k(y_true, y_pred, 5, gains=\"linear\")"
   ]
  },
  {
   "cell_type": "code",
   "execution_count": 66,
   "metadata": {},
   "outputs": [],
   "source": [
    "#normalizing scores to 1\n",
    "\n",
    "y_true_norm = []\n",
    "\n",
    "for i in range(len(y_true)):\n",
    "    y_true_norm.append([x/x for x in y_true[i]])\n",
    "\n",
    "\n",
    "y_pred_norm = []\n",
    "\n",
    "for i in range(len(y_pred)):\n",
    "    y_pred_norm_row = []\n",
    "    for el in y_pred[i]:\n",
    "        if el in y_true[i]:\n",
    "            score = 1\n",
    "        else:\n",
    "            score = 0\n",
    "        y_pred_norm_row.append(score)\n",
    "\n",
    "    y_pred_norm.append(y_pred_norm_row)\n",
    "\n",
    "y_pred_norm = np.array(y_pred_norm)\n",
    "y_true_norm = np.array(y_true_norm)\n",
    "\n",
    "\n",
    "y_true_norm = y_true_norm.astype(int)\n",
    "y_pred_norm = y_pred_norm.astype(int)"
   ]
  },
  {
   "cell_type": "code",
   "execution_count": 67,
   "metadata": {},
   "outputs": [
    {
     "data": {
      "text/plain": [
       "0.23692442876000566"
      ]
     },
     "execution_count": 67,
     "metadata": {},
     "output_type": "execute_result"
    }
   ],
   "source": [
    "ndcg_score_at_k(y_true_norm, y_pred_norm, 3, gains=\"linear\")"
   ]
  },
  {
   "cell_type": "code",
   "execution_count": 70,
   "metadata": {},
   "outputs": [
    {
     "data": {
      "text/plain": [
       "0.2206615472274326"
      ]
     },
     "execution_count": 70,
     "metadata": {},
     "output_type": "execute_result"
    }
   ],
   "source": [
    "ndcg_score_at_k(y_true_norm, y_pred_norm, 5, gains=\"linear\")"
   ]
  }
 ],
 "metadata": {
  "kernelspec": {
   "display_name": "Python 3.9.12 ('base')",
   "language": "python",
   "name": "python3"
  },
  "language_info": {
   "codemirror_mode": {
    "name": "ipython",
    "version": 3
   },
   "file_extension": ".py",
   "mimetype": "text/x-python",
   "name": "python",
   "nbconvert_exporter": "python",
   "pygments_lexer": "ipython3",
   "version": "3.9.12"
  },
  "orig_nbformat": 4,
  "vscode": {
   "interpreter": {
    "hash": "5f66966e931fc4ac787e20e3fb1743ecad89abfd01a532fa0096792975cac6b8"
   }
  }
 },
 "nbformat": 4,
 "nbformat_minor": 2
}
